{
 "cells": [
  {
   "cell_type": "code",
   "execution_count": 2,
   "metadata": {},
   "outputs": [],
   "source": [
    "# Dependencies\n",
    "# ----------------------------------\n",
    "%matplotlib inline\n",
    "from matplotlib import style\n",
    "style.use('fivethirtyeight')\n",
    "import matplotlib.pyplot as plt"
   ]
  },
  {
   "cell_type": "code",
   "execution_count": 3,
   "metadata": {},
   "outputs": [],
   "source": [
    "# Dependencies\n",
    "# ----------------------------------\n",
    "import numpy as np\n",
    "import pandas as pd\n",
    "import datetime as dt"
   ]
  },
  {
   "cell_type": "markdown",
   "metadata": {},
   "source": [
    "# Reflect Tables into SQLAlchemy ORM"
   ]
  },
  {
   "cell_type": "code",
   "execution_count": 4,
   "metadata": {},
   "outputs": [],
   "source": [
    "# Python SQL toolkit and Object Relational Mapper\n",
    "# import sqlalchemy\n",
    "from sqlalchemy.ext.declarative import declarative_base\n",
    "from sqlalchemy import Column, Integer, String, Float\n",
    "from sqlalchemy.ext.automap import automap_base\n",
    "from sqlalchemy.orm import Session\n",
    "from sqlalchemy import create_engine, inspect, func"
   ]
  },
  {
   "cell_type": "code",
   "execution_count": 5,
   "metadata": {},
   "outputs": [],
   "source": [
    "# create engine to hawaii.sqlite\n",
    "engine = create_engine(\"sqlite:///../Resources/hawaii.sqlite\")"
   ]
  },
  {
   "cell_type": "code",
   "execution_count": 6,
   "metadata": {},
   "outputs": [
    {
     "data": {
      "text/plain": [
       "['measurement', 'station']"
      ]
     },
     "execution_count": 6,
     "metadata": {},
     "output_type": "execute_result"
    }
   ],
   "source": [
    "# View all of the classes that automap found\n",
    "\n",
    "# Declare a Base using 'automap_base()'\n",
    "Base = automap_base()\n",
    "\n",
    "# Use the Base class to reflect the database tables\n",
    "Base.prepare(engine, reflect=True)\n",
    "\n",
    "# Print all of the classes mapped to the Base\n",
    "Base.classes.keys()"
   ]
  },
  {
   "cell_type": "code",
   "execution_count": 7,
   "metadata": {},
   "outputs": [],
   "source": [
    "# Save references to each table\n",
    "\n",
    "# Assign the 'measurement' to a variable called 'Measurement'\n",
    "measurement = Base.classes.measurement\n",
    "station = Base.classes.station"
   ]
  },
  {
   "cell_type": "code",
   "execution_count": 8,
   "metadata": {},
   "outputs": [],
   "source": [
    "# Create our session (link) from Python to the DB\n",
    "\n",
    "# Create a session\n",
    "session = Session(engine)"
   ]
  },
  {
   "cell_type": "code",
   "execution_count": 9,
   "metadata": {},
   "outputs": [
    {
     "data": {
      "text/plain": [
       "{'_sa_instance_state': <sqlalchemy.orm.state.InstanceState at 0x17ac923f688>,\n",
       " 'station': 'USC00519397',\n",
       " 'tobs': 18.3,\n",
       " 'date': '2010-01-01',\n",
       " 'prcp': 2.0,\n",
       " 'id': 0}"
      ]
     },
     "execution_count": 9,
     "metadata": {},
     "output_type": "execute_result"
    }
   ],
   "source": [
    "# Display the class 'measurement' columns and data in first rows in dictionary format\n",
    "session.query(measurement).first().__dict__"
   ]
  },
  {
   "cell_type": "code",
   "execution_count": 10,
   "metadata": {},
   "outputs": [
    {
     "data": {
      "text/plain": [
       "{'_sa_instance_state': <sqlalchemy.orm.state.InstanceState at 0x17ac92b4308>,\n",
       " 'station': 'USC00519397',\n",
       " 'latitude': 21.2716,\n",
       " 'elevation': 0.914,\n",
       " 'longitude': -157.8168,\n",
       " 'name': 'WAIKIKI 717.2, HI US',\n",
       " 'id': 0}"
      ]
     },
     "execution_count": 10,
     "metadata": {},
     "output_type": "execute_result"
    }
   ],
   "source": [
    "# Display the class 'station' columns and data in first rows in dictionary format\n",
    "session.query(station).first().__dict__"
   ]
  },
  {
   "cell_type": "code",
   "execution_count": 11,
   "metadata": {},
   "outputs": [
    {
     "data": {
      "text/plain": [
       "['measurement', 'station']"
      ]
     },
     "execution_count": 11,
     "metadata": {},
     "output_type": "execute_result"
    }
   ],
   "source": [
    "inspect(engine).get_table_names()"
   ]
  },
  {
   "cell_type": "code",
   "execution_count": 12,
   "metadata": {},
   "outputs": [
    {
     "name": "stdout",
     "output_type": "stream",
     "text": [
      "id\n",
      "station\n",
      "date\n",
      "prcp\n",
      "tobs\n"
     ]
    }
   ],
   "source": [
    "# reflect an existing database into a new model\n",
    "hawaii_measurement = engine.execute('SELECT * FROM measurement').keys()\n",
    "# reflect the tables\n",
    "for record in hawaii_measurement:\n",
    "    print(record)"
   ]
  },
  {
   "cell_type": "code",
   "execution_count": 13,
   "metadata": {},
   "outputs": [
    {
     "name": "stdout",
     "output_type": "stream",
     "text": [
      "          id      station        date  prcp  tobs\n",
      "0          0  USC00519397  2010-01-01   2.0  18.3\n",
      "1          1  USC00519397  2010-01-02   0.0  17.2\n",
      "2          2  USC00519397  2010-01-03   0.0  23.3\n",
      "3          3  USC00519397  2010-01-04   0.0  24.4\n",
      "4          4  USC00519397  2010-01-06   NaN  22.8\n",
      "...      ...          ...         ...   ...   ...\n",
      "19545  19545  USC00516128  2017-08-19   2.3  21.7\n",
      "19546  19546  USC00516128  2017-08-20   NaN  25.6\n",
      "19547  19547  USC00516128  2017-08-21  14.2  24.4\n",
      "19548  19548  USC00516128  2017-08-22  12.7  24.4\n",
      "19549  19549  USC00516128  2017-08-23  11.4  24.4\n",
      "\n",
      "[19550 rows x 5 columns]\n"
     ]
    }
   ],
   "source": [
    "conn = engine.connect()\n",
    "hawaii_measurement = pd.read_sql('SELECT * FROM measurement', conn)\n",
    "print (hawaii_measurement)"
   ]
  },
  {
   "cell_type": "code",
   "execution_count": 14,
   "metadata": {},
   "outputs": [
    {
     "name": "stdout",
     "output_type": "stream",
     "text": [
      "(0, 'USC00519397', 'WAIKIKI 717.2, HI US', 21.2716, -157.8168, 0.914)\n",
      "(1, 'USC00513117', 'KANEOHE 838.1, HI US', 21.4234, -157.8015, 4.45)\n",
      "(2, 'USC00514830', 'KUALOA RANCH HEADQUARTERS 886.9, HI US', 21.5213, -157.8374, 2.133)\n",
      "(3, 'USC00517948', 'PEARL CITY, HI US', 21.3934, -157.9751, 3.627)\n",
      "(4, 'USC00518838', 'UPPER WAHIAWA 874.3, HI US', 21.4992, -158.0111, 93.447)\n",
      "(5, 'USC00519523', 'WAIMANALO EXPERIMENTAL FARM, HI US', 21.33556, -157.71139, 5.943)\n",
      "(6, 'USC00519281', 'WAIHEE 837.5, HI US', 21.45167, -157.84889, 10.027)\n",
      "(7, 'USC00511918', 'HONOLULU OBSERVATORY 702.2, HI US', 21.3152, -157.9992, 0.274)\n",
      "(8, 'USC00516128', 'MANOA LYON ARBO 785.2, HI US', 21.3331, -157.8025, 46.449)\n"
     ]
    }
   ],
   "source": [
    "# reflect an existing database into a new model\n",
    "hawaii_station = engine.execute('SELECT * FROM station')\n",
    "# reflect the tables\n",
    "for record in hawaii_station:\n",
    "    print(record)"
   ]
  },
  {
   "cell_type": "code",
   "execution_count": 15,
   "metadata": {},
   "outputs": [
    {
     "data": {
      "text/html": [
       "<div>\n",
       "<style scoped>\n",
       "    .dataframe tbody tr th:only-of-type {\n",
       "        vertical-align: middle;\n",
       "    }\n",
       "\n",
       "    .dataframe tbody tr th {\n",
       "        vertical-align: top;\n",
       "    }\n",
       "\n",
       "    .dataframe thead th {\n",
       "        text-align: right;\n",
       "    }\n",
       "</style>\n",
       "<table border=\"1\" class=\"dataframe\">\n",
       "  <thead>\n",
       "    <tr style=\"text-align: right;\">\n",
       "      <th></th>\n",
       "      <th>id</th>\n",
       "      <th>station</th>\n",
       "      <th>name</th>\n",
       "      <th>latitude</th>\n",
       "      <th>longitude</th>\n",
       "      <th>elevation</th>\n",
       "    </tr>\n",
       "  </thead>\n",
       "  <tbody>\n",
       "    <tr>\n",
       "      <th>0</th>\n",
       "      <td>0</td>\n",
       "      <td>USC00519397</td>\n",
       "      <td>WAIKIKI 717.2, HI US</td>\n",
       "      <td>21.2716</td>\n",
       "      <td>-157.8168</td>\n",
       "      <td>0.914</td>\n",
       "    </tr>\n",
       "    <tr>\n",
       "      <th>1</th>\n",
       "      <td>1</td>\n",
       "      <td>USC00513117</td>\n",
       "      <td>KANEOHE 838.1, HI US</td>\n",
       "      <td>21.4234</td>\n",
       "      <td>-157.8015</td>\n",
       "      <td>4.450</td>\n",
       "    </tr>\n",
       "    <tr>\n",
       "      <th>2</th>\n",
       "      <td>2</td>\n",
       "      <td>USC00514830</td>\n",
       "      <td>KUALOA RANCH HEADQUARTERS 886.9, HI US</td>\n",
       "      <td>21.5213</td>\n",
       "      <td>-157.8374</td>\n",
       "      <td>2.133</td>\n",
       "    </tr>\n",
       "    <tr>\n",
       "      <th>3</th>\n",
       "      <td>3</td>\n",
       "      <td>USC00517948</td>\n",
       "      <td>PEARL CITY, HI US</td>\n",
       "      <td>21.3934</td>\n",
       "      <td>-157.9751</td>\n",
       "      <td>3.627</td>\n",
       "    </tr>\n",
       "    <tr>\n",
       "      <th>4</th>\n",
       "      <td>4</td>\n",
       "      <td>USC00518838</td>\n",
       "      <td>UPPER WAHIAWA 874.3, HI US</td>\n",
       "      <td>21.4992</td>\n",
       "      <td>-158.0111</td>\n",
       "      <td>93.447</td>\n",
       "    </tr>\n",
       "  </tbody>\n",
       "</table>\n",
       "</div>"
      ],
      "text/plain": [
       "   id      station                                    name  latitude  \\\n",
       "0   0  USC00519397                    WAIKIKI 717.2, HI US   21.2716   \n",
       "1   1  USC00513117                    KANEOHE 838.1, HI US   21.4234   \n",
       "2   2  USC00514830  KUALOA RANCH HEADQUARTERS 886.9, HI US   21.5213   \n",
       "3   3  USC00517948                       PEARL CITY, HI US   21.3934   \n",
       "4   4  USC00518838              UPPER WAHIAWA 874.3, HI US   21.4992   \n",
       "\n",
       "   longitude  elevation  \n",
       "0  -157.8168      0.914  \n",
       "1  -157.8015      4.450  \n",
       "2  -157.8374      2.133  \n",
       "3  -157.9751      3.627  \n",
       "4  -158.0111     93.447  "
      ]
     },
     "execution_count": 15,
     "metadata": {},
     "output_type": "execute_result"
    }
   ],
   "source": [
    "conn = engine.connect()\n",
    "hawaii_station = pd.read_sql('SELECT * FROM station', conn)\n",
    "hawaii_station.head(5)"
   ]
  },
  {
   "cell_type": "markdown",
   "metadata": {},
   "source": [
    "# Exploratory Precipitation Analysis"
   ]
  },
  {
   "cell_type": "code",
   "execution_count": 16,
   "metadata": {},
   "outputs": [
    {
     "name": "stdout",
     "output_type": "stream",
     "text": [
      "The most recent date in the data set is 0    2017-08-23\n",
      "Name: date, dtype: object\n"
     ]
    }
   ],
   "source": [
    "# Find the most recent date in the data set.\n",
    "conn = engine.connect()\n",
    "most_recent_date = pd.read_sql('SELECT * FROM measurement ORDER BY date DESC LIMIT 1', conn)\n",
    "print(f'The most recent date in the data set is {most_recent_date.date}')"
   ]
  },
  {
   "cell_type": "code",
   "execution_count": 17,
   "metadata": {},
   "outputs": [],
   "source": [
    "# Design a query to retrieve the last 12 months of precipitation data and plot the results.\n",
    "\n",
    "# Starting from the most recent data point in the database. And Select only the \"date\" and \"prcp\" values.\n",
    "date_prcp_df = pd.read_sql(\"SELECT date, prcp FROM measurement WHERE date <= '2017-08-23' AND date >= '2016-08-23'\", conn)"
   ]
  },
  {
   "cell_type": "code",
   "execution_count": 18,
   "metadata": {},
   "outputs": [
    {
     "name": "stdout",
     "output_type": "stream",
     "text": [
      "            date  prcp\n",
      "0     2016-08-23   0.0\n",
      "1     2016-08-24   2.0\n",
      "2     2016-08-25   2.0\n",
      "3     2016-08-26   0.0\n",
      "4     2016-08-27   0.0\n",
      "...          ...   ...\n",
      "2225  2017-08-19   2.3\n",
      "2226  2017-08-20   NaN\n",
      "2227  2017-08-21  14.2\n",
      "2228  2017-08-22  12.7\n",
      "2229  2017-08-23  11.4\n",
      "\n",
      "[2230 rows x 2 columns]\n"
     ]
    },
    {
     "data": {
      "text/html": [
       "<div>\n",
       "<style scoped>\n",
       "    .dataframe tbody tr th:only-of-type {\n",
       "        vertical-align: middle;\n",
       "    }\n",
       "\n",
       "    .dataframe tbody tr th {\n",
       "        vertical-align: top;\n",
       "    }\n",
       "\n",
       "    .dataframe thead th {\n",
       "        text-align: right;\n",
       "    }\n",
       "</style>\n",
       "<table border=\"1\" class=\"dataframe\">\n",
       "  <thead>\n",
       "    <tr style=\"text-align: right;\">\n",
       "      <th></th>\n",
       "      <th>prcp</th>\n",
       "    </tr>\n",
       "    <tr>\n",
       "      <th>date</th>\n",
       "      <th></th>\n",
       "    </tr>\n",
       "  </thead>\n",
       "  <tbody>\n",
       "    <tr>\n",
       "      <th>2016-08-23</th>\n",
       "      <td>0.0</td>\n",
       "    </tr>\n",
       "    <tr>\n",
       "      <th>2016-08-24</th>\n",
       "      <td>2.0</td>\n",
       "    </tr>\n",
       "    <tr>\n",
       "      <th>2016-08-25</th>\n",
       "      <td>2.0</td>\n",
       "    </tr>\n",
       "    <tr>\n",
       "      <th>2016-08-26</th>\n",
       "      <td>0.0</td>\n",
       "    </tr>\n",
       "    <tr>\n",
       "      <th>2016-08-27</th>\n",
       "      <td>0.0</td>\n",
       "    </tr>\n",
       "    <tr>\n",
       "      <th>...</th>\n",
       "      <td>...</td>\n",
       "    </tr>\n",
       "    <tr>\n",
       "      <th>2017-08-19</th>\n",
       "      <td>2.3</td>\n",
       "    </tr>\n",
       "    <tr>\n",
       "      <th>2017-08-20</th>\n",
       "      <td>NaN</td>\n",
       "    </tr>\n",
       "    <tr>\n",
       "      <th>2017-08-21</th>\n",
       "      <td>14.2</td>\n",
       "    </tr>\n",
       "    <tr>\n",
       "      <th>2017-08-22</th>\n",
       "      <td>12.7</td>\n",
       "    </tr>\n",
       "    <tr>\n",
       "      <th>2017-08-23</th>\n",
       "      <td>11.4</td>\n",
       "    </tr>\n",
       "  </tbody>\n",
       "</table>\n",
       "<p>2230 rows × 1 columns</p>\n",
       "</div>"
      ],
      "text/plain": [
       "            prcp\n",
       "date            \n",
       "2016-08-23   0.0\n",
       "2016-08-24   2.0\n",
       "2016-08-25   2.0\n",
       "2016-08-26   0.0\n",
       "2016-08-27   0.0\n",
       "...          ...\n",
       "2017-08-19   2.3\n",
       "2017-08-20   NaN\n",
       "2017-08-21  14.2\n",
       "2017-08-22  12.7\n",
       "2017-08-23  11.4\n",
       "\n",
       "[2230 rows x 1 columns]"
      ]
     },
     "execution_count": 18,
     "metadata": {},
     "output_type": "execute_result"
    }
   ],
   "source": [
    "# Load the query results into a Pandas DataFrame, and set the index to the \"date\" column.\n",
    "print(date_prcp_df)\n",
    "date_prcp_df.set_index('date')"
   ]
  },
  {
   "cell_type": "code",
   "execution_count": 19,
   "metadata": {},
   "outputs": [
    {
     "data": {
      "text/html": [
       "<div>\n",
       "<style scoped>\n",
       "    .dataframe tbody tr th:only-of-type {\n",
       "        vertical-align: middle;\n",
       "    }\n",
       "\n",
       "    .dataframe tbody tr th {\n",
       "        vertical-align: top;\n",
       "    }\n",
       "\n",
       "    .dataframe thead th {\n",
       "        text-align: right;\n",
       "    }\n",
       "</style>\n",
       "<table border=\"1\" class=\"dataframe\">\n",
       "  <thead>\n",
       "    <tr style=\"text-align: right;\">\n",
       "      <th></th>\n",
       "      <th>prcp</th>\n",
       "    </tr>\n",
       "    <tr>\n",
       "      <th>date</th>\n",
       "      <th></th>\n",
       "    </tr>\n",
       "  </thead>\n",
       "  <tbody>\n",
       "    <tr>\n",
       "      <th>2016-08-23</th>\n",
       "      <td>45.5</td>\n",
       "    </tr>\n",
       "    <tr>\n",
       "      <th>2016-08-24</th>\n",
       "      <td>57.9</td>\n",
       "    </tr>\n",
       "    <tr>\n",
       "      <th>2016-08-25</th>\n",
       "      <td>5.3</td>\n",
       "    </tr>\n",
       "    <tr>\n",
       "      <th>2016-08-26</th>\n",
       "      <td>1.0</td>\n",
       "    </tr>\n",
       "    <tr>\n",
       "      <th>2016-08-27</th>\n",
       "      <td>4.6</td>\n",
       "    </tr>\n",
       "    <tr>\n",
       "      <th>...</th>\n",
       "      <td>...</td>\n",
       "    </tr>\n",
       "    <tr>\n",
       "      <th>2017-08-19</th>\n",
       "      <td>2.3</td>\n",
       "    </tr>\n",
       "    <tr>\n",
       "      <th>2017-08-20</th>\n",
       "      <td>0.3</td>\n",
       "    </tr>\n",
       "    <tr>\n",
       "      <th>2017-08-21</th>\n",
       "      <td>14.2</td>\n",
       "    </tr>\n",
       "    <tr>\n",
       "      <th>2017-08-22</th>\n",
       "      <td>12.7</td>\n",
       "    </tr>\n",
       "    <tr>\n",
       "      <th>2017-08-23</th>\n",
       "      <td>11.4</td>\n",
       "    </tr>\n",
       "  </tbody>\n",
       "</table>\n",
       "<p>366 rows × 1 columns</p>\n",
       "</div>"
      ],
      "text/plain": [
       "            prcp\n",
       "date            \n",
       "2016-08-23  45.5\n",
       "2016-08-24  57.9\n",
       "2016-08-25   5.3\n",
       "2016-08-26   1.0\n",
       "2016-08-27   4.6\n",
       "...          ...\n",
       "2017-08-19   2.3\n",
       "2017-08-20   0.3\n",
       "2017-08-21  14.2\n",
       "2017-08-22  12.7\n",
       "2017-08-23  11.4\n",
       "\n",
       "[366 rows x 1 columns]"
      ]
     },
     "execution_count": 19,
     "metadata": {},
     "output_type": "execute_result"
    }
   ],
   "source": [
    "# Sort the DataFrame values by \"date\".\n",
    "df = date_prcp_df.set_index('date').sort_index(ascending=True)\n",
    "df_max = date_prcp_df.groupby(by='date').max()\n",
    "df_max"
   ]
  },
  {
   "cell_type": "code",
   "execution_count": 20,
   "metadata": {},
   "outputs": [
    {
     "data": {
      "image/png": "[encoded data removed]",
      "text/plain": [
       "<Figure size 432x288 with 1 Axes>"
      ]
     },
     "metadata": {},
     "output_type": "display_data"
    }
   ],
   "source": [
    "xpoints = df_max.index\n",
    "ypoints = df_max['prcp']\n",
    "\n",
    "plt.plot(xpoints, ypoints)\n",
    "plt.xlabel('Date')\n",
    "plt.ylabel('mm')\n",
    "plt.title('precipitation in 08/2016-08/2017')\n",
    "plt.show()"
   ]
  },
  {
   "cell_type": "code",
   "execution_count": 21,
   "metadata": {},
   "outputs": [],
   "source": [
    "# Use Pandas to calcualte the summary statistics for the precipitation data\n",
    "\n",
    "# Generate a summary statistics table of mean, median, variance, standard deviation, and SEM\n",
    "df_mean = df.groupby(by=[\"date\"])[\"prcp\"].mean()\n",
    "df_median = df.groupby(by=[\"date\"])[\"prcp\"].median()\n",
    "df_var = df.groupby(by=[\"date\"])[\"prcp\"].var()\n",
    "df_std = df.groupby(by=[\"date\"])[\"prcp\"].std()\n",
    "df_sem = df.groupby(by=[\"date\"])[\"prcp\"].sem()\n",
    "df_sum = df.groupby(by=['date']).sum()"
   ]
  },
  {
   "cell_type": "code",
   "execution_count": 22,
   "metadata": {},
   "outputs": [
    {
     "data": {
      "text/html": [
       "<div>\n",
       "<style scoped>\n",
       "    .dataframe tbody tr th:only-of-type {\n",
       "        vertical-align: middle;\n",
       "    }\n",
       "\n",
       "    .dataframe tbody tr th {\n",
       "        vertical-align: top;\n",
       "    }\n",
       "\n",
       "    .dataframe thead th {\n",
       "        text-align: right;\n",
       "    }\n",
       "</style>\n",
       "<table border=\"1\" class=\"dataframe\">\n",
       "  <thead>\n",
       "    <tr style=\"text-align: right;\">\n",
       "      <th></th>\n",
       "      <th>mean</th>\n",
       "      <th>median</th>\n",
       "      <th>var</th>\n",
       "      <th>std</th>\n",
       "      <th>sem</th>\n",
       "    </tr>\n",
       "    <tr>\n",
       "      <th>date</th>\n",
       "      <th></th>\n",
       "      <th></th>\n",
       "      <th></th>\n",
       "      <th></th>\n",
       "      <th></th>\n",
       "    </tr>\n",
       "  </thead>\n",
       "  <tbody>\n",
       "    <tr>\n",
       "      <th>2016-08-23</th>\n",
       "      <td>11.483333</td>\n",
       "      <td>2.55</td>\n",
       "      <td>322.453667</td>\n",
       "      <td>17.956995</td>\n",
       "      <td>7.330912</td>\n",
       "    </tr>\n",
       "    <tr>\n",
       "      <th>2016-08-24</th>\n",
       "      <td>39.483333</td>\n",
       "      <td>45.70</td>\n",
       "      <td>456.073667</td>\n",
       "      <td>21.355881</td>\n",
       "      <td>8.718502</td>\n",
       "    </tr>\n",
       "    <tr>\n",
       "      <th>2016-08-25</th>\n",
       "      <td>1.942857</td>\n",
       "      <td>2.00</td>\n",
       "      <td>3.292857</td>\n",
       "      <td>1.814623</td>\n",
       "      <td>0.685863</td>\n",
       "    </tr>\n",
       "    <tr>\n",
       "      <th>2016-08-26</th>\n",
       "      <td>0.433333</td>\n",
       "      <td>0.40</td>\n",
       "      <td>0.170667</td>\n",
       "      <td>0.413118</td>\n",
       "      <td>0.168655</td>\n",
       "    </tr>\n",
       "    <tr>\n",
       "      <th>2016-08-27</th>\n",
       "      <td>1.620000</td>\n",
       "      <td>0.50</td>\n",
       "      <td>4.322000</td>\n",
       "      <td>2.078942</td>\n",
       "      <td>0.929731</td>\n",
       "    </tr>\n",
       "    <tr>\n",
       "      <th>...</th>\n",
       "      <td>...</td>\n",
       "      <td>...</td>\n",
       "      <td>...</td>\n",
       "      <td>...</td>\n",
       "      <td>...</td>\n",
       "    </tr>\n",
       "    <tr>\n",
       "      <th>2017-08-19</th>\n",
       "      <td>0.766667</td>\n",
       "      <td>0.00</td>\n",
       "      <td>1.763333</td>\n",
       "      <td>1.327906</td>\n",
       "      <td>0.766667</td>\n",
       "    </tr>\n",
       "    <tr>\n",
       "      <th>2017-08-20</th>\n",
       "      <td>0.150000</td>\n",
       "      <td>0.15</td>\n",
       "      <td>0.045000</td>\n",
       "      <td>0.212132</td>\n",
       "      <td>0.150000</td>\n",
       "    </tr>\n",
       "    <tr>\n",
       "      <th>2017-08-21</th>\n",
       "      <td>4.900000</td>\n",
       "      <td>0.50</td>\n",
       "      <td>64.930000</td>\n",
       "      <td>8.057915</td>\n",
       "      <td>4.652240</td>\n",
       "    </tr>\n",
       "    <tr>\n",
       "      <th>2017-08-22</th>\n",
       "      <td>4.233333</td>\n",
       "      <td>0.00</td>\n",
       "      <td>53.763333</td>\n",
       "      <td>7.332348</td>\n",
       "      <td>4.233333</td>\n",
       "    </tr>\n",
       "    <tr>\n",
       "      <th>2017-08-23</th>\n",
       "      <td>3.350000</td>\n",
       "      <td>1.00</td>\n",
       "      <td>29.690000</td>\n",
       "      <td>5.448853</td>\n",
       "      <td>2.724427</td>\n",
       "    </tr>\n",
       "  </tbody>\n",
       "</table>\n",
       "<p>366 rows × 5 columns</p>\n",
       "</div>"
      ],
      "text/plain": [
       "                 mean  median         var        std       sem\n",
       "date                                                          \n",
       "2016-08-23  11.483333    2.55  322.453667  17.956995  7.330912\n",
       "2016-08-24  39.483333   45.70  456.073667  21.355881  8.718502\n",
       "2016-08-25   1.942857    2.00    3.292857   1.814623  0.685863\n",
       "2016-08-26   0.433333    0.40    0.170667   0.413118  0.168655\n",
       "2016-08-27   1.620000    0.50    4.322000   2.078942  0.929731\n",
       "...               ...     ...         ...        ...       ...\n",
       "2017-08-19   0.766667    0.00    1.763333   1.327906  0.766667\n",
       "2017-08-20   0.150000    0.15    0.045000   0.212132  0.150000\n",
       "2017-08-21   4.900000    0.50   64.930000   8.057915  4.652240\n",
       "2017-08-22   4.233333    0.00   53.763333   7.332348  4.233333\n",
       "2017-08-23   3.350000    1.00   29.690000   5.448853  2.724427\n",
       "\n",
       "[366 rows x 5 columns]"
      ]
     },
     "execution_count": 22,
     "metadata": {},
     "output_type": "execute_result"
    }
   ],
   "source": [
    "# Assemble the resulting series into a single summary dataframe.\n",
    "summary_df = {}\n",
    "summary_df = pd.DataFrame({\n",
    "    \"mean\": df_mean,\n",
    "    \"median\": df_median,\n",
    "    \"var\": df_var,\n",
    "    \"std\": df_std,\n",
    "    \"sem\": df_sem\n",
    "})\n",
    "summary_df"
   ]
  },
  {
   "cell_type": "markdown",
   "metadata": {},
   "source": [
    "# Exploratory Station Analysis"
   ]
  },
  {
   "cell_type": "code",
   "execution_count": 23,
   "metadata": {},
   "outputs": [
    {
     "name": "stdout",
     "output_type": "stream",
     "text": [
      "The total number stations are 9\n"
     ]
    }
   ],
   "source": [
    "# Design a query to calculate the total number stations in the dataset\n",
    "total_Stations= session.query(measurement.station).group_by('station').count()\n",
    "print(f'The total number stations are {total_Stations}')"
   ]
  },
  {
   "cell_type": "code",
   "execution_count": 24,
   "metadata": {},
   "outputs": [],
   "source": [
    "# Design a query to find the most active stations (i.e. what stations have the most rows?)\n",
    "# List the stations and the counts in descending order.\n",
    "station_count = pd.read_sql(\"SELECT * FROM measurement\", conn)"
   ]
  },
  {
   "cell_type": "code",
   "execution_count": 25,
   "metadata": {},
   "outputs": [
    {
     "name": "stdout",
     "output_type": "stream",
     "text": [
      "The most activate station is Index(['USC00519281'], dtype='object', name='station')\n"
     ]
    }
   ],
   "source": [
    "station_count_1 = station_count.groupby(by='station').count()\n",
    "station_activate = station_count_1.sort_values(by=['prcp'],ascending=False).head(1)\n",
    "print(f'The most activate station is {station_activate.index}')"
   ]
  },
  {
   "cell_type": "code",
   "execution_count": 26,
   "metadata": {},
   "outputs": [
    {
     "name": "stdout",
     "output_type": "stream",
     "text": [
      "The most active station id is USC00519281.\n",
      "Its lowest temperature is [(12.2,)].\n",
      "Its highest temperature is [(29.4,)].\n",
      "Its average temperature is [(22.03582251082252,)].\n"
     ]
    }
   ],
   "source": [
    "# Using the most active station id from the previous query, calculate the lowest, highest, and average temperature.\n",
    "min_tobs = session.query(func.min(measurement.tobs)).filter(measurement.station == 'USC00519281').all()\n",
    "max_tobs = session.query(func.max(measurement.tobs)).filter(measurement.station == 'USC00519281').all()\n",
    "avg_tobs = session.query(func.avg(measurement.tobs)).filter(measurement.station == 'USC00519281').all()\n",
    "\n",
    "print(f'The most active station id is USC00519281.')\n",
    "print(f'Its lowest temperature is {min_tobs}.')\n",
    "print(f'Its highest temperature is {max_tobs}.')\n",
    "print(f'Its average temperature is {avg_tobs}.')"
   ]
  },
  {
   "cell_type": "code",
   "execution_count": 37,
   "metadata": {},
   "outputs": [],
   "source": [
    "tobs_min = session.query(func.min(measurement.tobs)).filter(measurement.date >= '2016-01-01', measurement.date <= '2017-01-01').all()\n",
    "tobs_max = session.query(func.max(measurement.tobs)).filter(measurement.date >= '2016-01-01', measurement.date <= '2017-01-01').all()\n",
    "tobs_avg = session.query(func.avg(measurement.tobs)).filter(measurement.date >= '2016-01-01', measurement.date <= '2017-01-01').all()"
   ]
  },
  {
   "cell_type": "code",
   "execution_count": 28,
   "metadata": {},
   "outputs": [
    {
     "data": {
      "text/html": [
       "<div>\n",
       "<style scoped>\n",
       "    .dataframe tbody tr th:only-of-type {\n",
       "        vertical-align: middle;\n",
       "    }\n",
       "\n",
       "    .dataframe tbody tr th {\n",
       "        vertical-align: top;\n",
       "    }\n",
       "\n",
       "    .dataframe thead th {\n",
       "        text-align: right;\n",
       "    }\n",
       "</style>\n",
       "<table border=\"1\" class=\"dataframe\">\n",
       "  <thead>\n",
       "    <tr style=\"text-align: right;\">\n",
       "      <th></th>\n",
       "      <th>date</th>\n",
       "      <th>tobs</th>\n",
       "    </tr>\n",
       "  </thead>\n",
       "  <tbody>\n",
       "    <tr>\n",
       "      <th>0</th>\n",
       "      <td>2016-08-23</td>\n",
       "      <td>25.0</td>\n",
       "    </tr>\n",
       "    <tr>\n",
       "      <th>1</th>\n",
       "      <td>2016-08-24</td>\n",
       "      <td>25.0</td>\n",
       "    </tr>\n",
       "    <tr>\n",
       "      <th>2</th>\n",
       "      <td>2016-08-25</td>\n",
       "      <td>26.7</td>\n",
       "    </tr>\n",
       "    <tr>\n",
       "      <th>3</th>\n",
       "      <td>2016-08-26</td>\n",
       "      <td>26.7</td>\n",
       "    </tr>\n",
       "    <tr>\n",
       "      <th>4</th>\n",
       "      <td>2016-08-27</td>\n",
       "      <td>23.9</td>\n",
       "    </tr>\n",
       "    <tr>\n",
       "      <th>...</th>\n",
       "      <td>...</td>\n",
       "      <td>...</td>\n",
       "    </tr>\n",
       "    <tr>\n",
       "      <th>347</th>\n",
       "      <td>2017-08-14</td>\n",
       "      <td>25.0</td>\n",
       "    </tr>\n",
       "    <tr>\n",
       "      <th>348</th>\n",
       "      <td>2017-08-15</td>\n",
       "      <td>25.0</td>\n",
       "    </tr>\n",
       "    <tr>\n",
       "      <th>349</th>\n",
       "      <td>2017-08-16</td>\n",
       "      <td>24.4</td>\n",
       "    </tr>\n",
       "    <tr>\n",
       "      <th>350</th>\n",
       "      <td>2017-08-17</td>\n",
       "      <td>24.4</td>\n",
       "    </tr>\n",
       "    <tr>\n",
       "      <th>351</th>\n",
       "      <td>2017-08-18</td>\n",
       "      <td>26.1</td>\n",
       "    </tr>\n",
       "  </tbody>\n",
       "</table>\n",
       "<p>352 rows × 2 columns</p>\n",
       "</div>"
      ],
      "text/plain": [
       "           date  tobs\n",
       "0    2016-08-23  25.0\n",
       "1    2016-08-24  25.0\n",
       "2    2016-08-25  26.7\n",
       "3    2016-08-26  26.7\n",
       "4    2016-08-27  23.9\n",
       "..          ...   ...\n",
       "347  2017-08-14  25.0\n",
       "348  2017-08-15  25.0\n",
       "349  2017-08-16  24.4\n",
       "350  2017-08-17  24.4\n",
       "351  2017-08-18  26.1\n",
       "\n",
       "[352 rows x 2 columns]"
      ]
     },
     "execution_count": 28,
     "metadata": {},
     "output_type": "execute_result"
    }
   ],
   "source": [
    "# Using the most active station id\n",
    "# Query the last 12 months of temperature observation data for this station and plot the results as a histogram\n",
    "date_tobs_df = pd.read_sql(\"SELECT date, tobs FROM measurement WHERE date <= '2017-08-23' AND date >= '2016-08-23' AND station = 'USC00519281'\", conn)\n",
    "date_tobs_df"
   ]
  },
  {
   "cell_type": "code",
   "execution_count": 29,
   "metadata": {},
   "outputs": [
    {
     "data": {
      "image/png": "[encoded data removed]",
      "text/plain": [
       "<Figure size 432x288 with 1 Axes>"
      ]
     },
     "metadata": {},
     "output_type": "display_data"
    }
   ],
   "source": [
    "x = np.array(date_tobs_df.tobs)\n",
    "plt.hist(x)\n",
    "\n",
    "plt.xlabel(\"Temperature\")\n",
    "plt.ylabel('Frequency')\n",
    "plt.legend('tobs')\n",
    "\n",
    "plt.show()"
   ]
  },
  {
   "cell_type": "markdown",
   "metadata": {},
   "source": [
    "# Close session"
   ]
  },
  {
   "cell_type": "code",
   "execution_count": 30,
   "metadata": {},
   "outputs": [],
   "source": [
    "# Close Session\n",
    "session.close()"
   ]
  },
  {
   "cell_type": "code",
   "execution_count": null,
   "metadata": {},
   "outputs": [],
   "source": []
  }
 ],
 "metadata": {
  "anaconda-cloud": {},
  "kernel_info": {
   "name": "python3"
  },
  "kernelspec": {
   "display_name": "PythonData",
   "language": "python",
   "name": "python3"
  },
  "language_info": {
   "codemirror_mode": {
    "name": "ipython",
    "version": 3
   },
   "file_extension": ".py",
   "mimetype": "text/x-python",
   "name": "python",
   "nbconvert_exporter": "python",
   "pygments_lexer": "ipython3",
   "version": "3.7.7"
  },
  "nteract": {
   "version": "0.12.3"
  },
  "varInspector": {
   "cols": {
    "lenName": 16,
    "lenType": 16,
    "lenVar": 40
   },
   "kernels_config": {
    "python": {
     "delete_cmd_postfix": "",
     "delete_cmd_prefix": "del ",
     "library": "var_list.py",
     "varRefreshCmd": "print(var_dic_list())"
    },
    "r": {
     "delete_cmd_postfix": ") ",
     "delete_cmd_prefix": "rm(",
     "library": "var_list.r",
     "varRefreshCmd": "cat(var_dic_list()) "
    }
   },
   "types_to_exclude": [
    "module",
    "function",
    "builtin_function_or_method",
    "instance",
    "_Feature"
   ],
   "window_display": false
  },
  "vscode": {
   "interpreter": {
    "hash": "4860fbbdba2bd9e1e3b68a82a263c084331b9d874cdb640e2639da0abff1aab2"
   }
  }
 },
 "nbformat": 4,
 "nbformat_minor": 2
}
